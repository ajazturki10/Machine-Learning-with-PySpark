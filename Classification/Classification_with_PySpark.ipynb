{
 "cells": [
  {
   "cell_type": "code",
   "execution_count": 1,
   "id": "227f8801-1a1f-486d-9cc6-46a42d84fd56",
   "metadata": {},
   "outputs": [],
   "source": [
    "import findspark\n",
    "findspark.init()"
   ]
  },
  {
   "cell_type": "code",
   "execution_count": 140,
   "id": "6421d3ef-45f9-4f49-82fe-1c7c5bb66d51",
   "metadata": {},
   "outputs": [],
   "source": [
    "# Import Libraries\n",
    "\n",
    "from pyspark.sql import SparkSession\n",
    "from pyspark import SparkFiles\n",
    "from pyspark.ml.feature import StringIndexer, VectorAssembler\n",
    "from pyspark.ml.classification import RandomForestClassifier\n",
    "from pyspark.ml.pipeline import Pipeline\n",
    "from pyspark.sql.functions import col, udf\n",
    "from pyspark.ml import Transformer\n",
    "from pyspark.ml.evaluation import MulticlassClassificationEvaluator\n",
    "from pyspark.ml.tuning import ParamGridBuilder, CrossValidator"
   ]
  },
  {
   "cell_type": "code",
   "execution_count": 3,
   "id": "585373ff-a2f7-4861-9734-f05119a3be1f",
   "metadata": {},
   "outputs": [],
   "source": [
    "# Initiate the Spark Session\n",
    "\n",
    "spark = SparkSession.builder.appName(\"Car Prediction Pipeline\").getOrCreate()"
   ]
  },
  {
   "cell_type": "code",
   "execution_count": 4,
   "id": "396616e1-97f9-405a-8a44-0d687774ff63",
   "metadata": {},
   "outputs": [
    {
     "data": {
      "text/html": [
       "\n",
       "            <div>\n",
       "                <p><b>SparkSession - in-memory</b></p>\n",
       "                \n",
       "        <div>\n",
       "            <p><b>SparkContext</b></p>\n",
       "\n",
       "            <p><a href=\"http://LAPTOP-M6DHFCPA:4041\">Spark UI</a></p>\n",
       "\n",
       "            <dl>\n",
       "              <dt>Version</dt>\n",
       "                <dd><code>v3.2.3</code></dd>\n",
       "              <dt>Master</dt>\n",
       "                <dd><code>local[*]</code></dd>\n",
       "              <dt>AppName</dt>\n",
       "                <dd><code>Car Prediction Pipeline</code></dd>\n",
       "            </dl>\n",
       "        </div>\n",
       "        \n",
       "            </div>\n",
       "        "
      ],
      "text/plain": [
       "<pyspark.sql.session.SparkSession at 0x1ffdc2be8e0>"
      ]
     },
     "execution_count": 4,
     "metadata": {},
     "output_type": "execute_result"
    }
   ],
   "source": [
    "spark"
   ]
  },
  {
   "cell_type": "code",
   "execution_count": 5,
   "id": "10aa4bae-84f0-4c6f-afa6-989fbfc1b328",
   "metadata": {},
   "outputs": [],
   "source": [
    "dataset_url = \"https://raw.githubusercontent.com/muttinenisairohith/Datasets/6e7bec3b9cbdc25da1055472c837ef8a10f569ed/data/car_data.csv\""
   ]
  },
  {
   "cell_type": "code",
   "execution_count": null,
   "id": "e6a2e754-5fd4-468b-9a89-96f905fa1a45",
   "metadata": {},
   "outputs": [],
   "source": [
    "# In Apache Spark, spark.sparkContext.addFile() is a method used to add a file to the distributed cache, \n",
    "# which can then be accessed by all the worker nodes in the Spark cluster.\n",
    "spark.sparkContext.addFile(dataset_url)\n",
    "\n",
    "# After adding the file to the distributed cache, it can be accessed using the SparkFiles.get() method, \n",
    "# which returns the path to the file on the local filesystem of the worker node\n",
    "path = SparkFiles.get(\"car_data.csv\")"
   ]
  },
  {
   "cell_type": "code",
   "execution_count": 8,
   "id": "a9ce339f-4f94-4ca6-afcc-7c9064408947",
   "metadata": {},
   "outputs": [],
   "source": [
    "df = spark.read.csv(\"file:///\"+path, inferSchema=True, header=True)"
   ]
  },
  {
   "cell_type": "code",
   "execution_count": 9,
   "id": "e99737aa-fe98-4dad-840e-d7fc4246d96d",
   "metadata": {},
   "outputs": [
    {
     "name": "stdout",
     "output_type": "stream",
     "text": [
      "+------+------------+-----+-------+--------+------+--------+\n",
      "|buying|maintainence|doors|persons|lug_boot|safety|car_type|\n",
      "+------+------------+-----+-------+--------+------+--------+\n",
      "| vhigh|       vhigh|    2|      2|   small|   low|   unacc|\n",
      "| vhigh|       vhigh|    2|      2|   small|   med|   unacc|\n",
      "| vhigh|       vhigh|    2|      2|   small|  high|   unacc|\n",
      "| vhigh|       vhigh|    2|      2|     med|   low|   unacc|\n",
      "| vhigh|       vhigh|    2|      2|     med|   med|   unacc|\n",
      "+------+------------+-----+-------+--------+------+--------+\n",
      "only showing top 5 rows\n",
      "\n"
     ]
    }
   ],
   "source": [
    "df.show(5)"
   ]
  },
  {
   "cell_type": "code",
   "execution_count": null,
   "id": "fb7ae43a-6cf4-4155-bf08-b0df2d800b9a",
   "metadata": {},
   "outputs": [
    {
     "name": "stdout",
     "output_type": "stream",
     "text": [
      "root\n",
      " |-- buying: string (nullable = true)\n",
      " |-- maintainence: string (nullable = true)\n",
      " |-- doors: string (nullable = true)\n",
      " |-- persons: string (nullable = true)\n",
      " |-- lug_boot: string (nullable = true)\n",
      " |-- safety: string (nullable = true)\n",
      " |-- car_type: string (nullable = true)\n",
      "\n"
     ]
    }
   ],
   "source": [
    "df.printSchema()"
   ]
  },
  {
   "cell_type": "code",
   "execution_count": null,
   "id": "0d63b54f-6e1d-4706-91e3-d64f57f3e993",
   "metadata": {},
   "outputs": [
    {
     "data": {
      "text/plain": [
       "<AxesSubplot:xlabel='car_type'>"
      ]
     },
     "execution_count": 134,
     "metadata": {},
     "output_type": "execute_result"
    },
    {
     "data": {
      "image/png": "[encoded data removed]",
      "text/plain": [
       "<Figure size 432x288 with 1 Axes>"
      ]
     },
     "metadata": {
      "needs_background": "light"
     },
     "output_type": "display_data"
    }
   ],
   "source": [
    "df.groupBy(\"car_type\").count().toPandas().plot(kind=\"bar\", x=\"car_type\", y='count')"
   ]
  },
  {
   "cell_type": "code",
   "execution_count": 138,
   "id": "9f91ef84-3453-4c9d-b158-3c04ea56c471",
   "metadata": {},
   "outputs": [],
   "source": [
    "# Split the data\n",
    "\n",
    "train, test = df.randomSplit([0.8, 0.2], seed=42)"
   ]
  },
  {
   "cell_type": "code",
   "execution_count": 139,
   "id": "aad87cee-4f3e-46f0-a78a-72c9157296fc",
   "metadata": {},
   "outputs": [
    {
     "data": {
      "text/plain": [
       "(1431, 297)"
      ]
     },
     "execution_count": 139,
     "metadata": {},
     "output_type": "execute_result"
    }
   ],
   "source": [
    "train.count(), test.count()"
   ]
  },
  {
   "cell_type": "code",
   "execution_count": 13,
   "id": "790c5363-92e6-4507-9dd2-1fc474eff1fc",
   "metadata": {},
   "outputs": [],
   "source": [
    "# Defining the column names for to-be encoded columns\n",
    "\n",
    "colEncoded = [c+\"_enc\" for c in df.columns] "
   ]
  },
  {
   "cell_type": "code",
   "execution_count": 58,
   "id": "9b0e4ed1-b739-4b08-92db-39cf20a83923",
   "metadata": {},
   "outputs": [],
   "source": [
    "# StringIndexer is a feature transformer that encodes a column of string values into a column of numerical values\n",
    "\n",
    "# The *inputCols* parameter of the StringIndexer constructor specifies the names of the columns in the input DataFrame \n",
    "# that should be encoded, and outputCols specifies the names of the corresponding output columns that will contain \n",
    "# the encoded values. Both parameters should be specified as lists of column names.\n",
    "\n",
    "indexer = StringIndexer(inputCols=df.columns, outputCols=colEncoded)"
   ]
  },
  {
   "cell_type": "code",
   "execution_count": 77,
   "id": "5c5b8452-e631-4811-a806-94f656898761",
   "metadata": {},
   "outputs": [],
   "source": [
    "# The given code defines a custom transformer called CastColumns that extends the Transformer class provided by Apache Spark. \n",
    "# The purpose of this transformer is to cast the values in one or more columns of a DataFrame to integer data type.\n",
    "\n",
    "class CastColumns(Transformer):\n",
    "    def __init__(self, input_cols):\n",
    "        super(CastColumns, self).__init__()\n",
    "        self.input_cols = input_cols\n",
    "\n",
    "    def _transform(self, df):\n",
    "        for c in self.input_cols:\n",
    "            df = df.withColumn(c, df[c].cast(\"int\"))\n",
    "        return df.select(self.input_cols)   "
   ]
  },
  {
   "cell_type": "code",
   "execution_count": 84,
   "id": "2f64c8d8-35b1-4d82-b5f9-14b22cc139d4",
   "metadata": {},
   "outputs": [],
   "source": [
    "# Defining the constructor\n",
    "\n",
    "CastFn = CastColumns(input_cols=colEncoded)"
   ]
  },
  {
   "cell_type": "code",
   "execution_count": 53,
   "id": "87464655-e28e-4aa2-81de-63d6730dc7eb",
   "metadata": {},
   "outputs": [],
   "source": [
    "# VectorAssembler is a feature transformer that merges multiple columns of a DataFrame into a single vector column.\n",
    "# the resulting output DataFrame will have a new column called \"features\" \n",
    "# that contains a vector representation of the specified input columns.\n",
    "\n",
    "assembler = VectorAssembler(inputCols=colEncoded[:-1], outputCol=\"features\")"
   ]
  },
  {
   "cell_type": "code",
   "execution_count": 142,
   "id": "ddde4a15-a251-43e7-8e32-accef32adecf",
   "metadata": {},
   "outputs": [],
   "source": [
    "rfModel = RandomForestClassifier(featuresCol=\"features\", labelCol=\"car_type_enc\")"
   ]
  },
  {
   "cell_type": "markdown",
   "id": "26464447-f333-4e17-9a8a-9d4ba2538de0",
   "metadata": {},
   "source": [
    "### Final Model"
   ]
  },
  {
   "cell_type": "code",
   "execution_count": 143,
   "id": "52e3a71f-e5b0-426c-a1c1-12b3dce41aac",
   "metadata": {},
   "outputs": [],
   "source": [
    "# Define the pipeline and the sequence of transformers and finally ML Model\n",
    "\n",
    "model = Pipeline(stages=[indexer, CastFn, assembler, rfModel])"
   ]
  },
  {
   "cell_type": "code",
   "execution_count": 95,
   "id": "89624ea3-4423-4294-bd68-ba52fd580479",
   "metadata": {},
   "outputs": [],
   "source": [
    "# Define the Evaluation Matric\n",
    "\n",
    "evaluator = MulticlassClassificationEvaluator(labelCol=\"car_type_enc\")"
   ]
  },
  {
   "cell_type": "markdown",
   "id": "81ca847d-fa68-410d-85c9-c01e1e64d1fd",
   "metadata": {},
   "source": [
    "### Fine-tuning"
   ]
  },
  {
   "cell_type": "code",
   "execution_count": 96,
   "id": "ed20886e-2d41-4c7c-b042-6cdf30ace22d",
   "metadata": {},
   "outputs": [],
   "source": [
    "# ParamGridBuilder is a utility class that is used to construct a grid of hyperparameters to search over during model selection. \n",
    "# The hyperparameters should be specified as key-value pairs, where the keys are the names of the hyperparameters and \n",
    "# the values are the lists of values to search over.\n",
    "\n",
    "paramGrid = ParamGridBuilder() \\\n",
    "            .addGrid(rf_clf.numTrees, [100, 200, 300, 400, 500]) \\\n",
    "            .addGrid(rf_clf.maxDepth, [2, 4, 6, 8, 10, 12, 14, 16]) \\\n",
    "            .build()  "
   ]
  },
  {
   "cell_type": "code",
   "execution_count": 97,
   "id": "029407eb-ed54-4ba9-86e2-1d67233f1480",
   "metadata": {},
   "outputs": [],
   "source": [
    "# CrossValidator is a built-in class in Apache Spark that performs k-fold cross-validation for model selection.\n",
    "# It takes a machine learning pipeline or model (specified as an estimator), a grid of hyperparameters to search over \n",
    "# (specified as estimatorParamMaps), an evaluation metric (specified as an evaluator), \n",
    "# and the number of folds to use in k-fold cross-validation (specified as numFolds), \n",
    "# and returns the best model based on the specified evaluation metric.\n",
    "\n",
    "cross_validator = CrossValidator(estimator=model, \n",
    "                                estimatorParamMaps=paramGrid, \n",
    "                                evaluator=evaluator, \n",
    "                                numFolds=5)"
   ]
  },
  {
   "cell_type": "code",
   "execution_count": 98,
   "id": "09f75215-c1ae-4a57-a09d-4d127c4a0fe8",
   "metadata": {},
   "outputs": [],
   "source": [
    "cvModel = cross_validator.fit(train)"
   ]
  },
  {
   "cell_type": "code",
   "execution_count": 100,
   "id": "7bed4bfd-594e-4f06-96e2-b230a0163084",
   "metadata": {},
   "outputs": [],
   "source": [
    "predictions = cv_model.transform(test)"
   ]
  },
  {
   "cell_type": "code",
   "execution_count": 101,
   "id": "84228dfa-e0fe-4263-ba3f-fdde66ef34bb",
   "metadata": {},
   "outputs": [
    {
     "data": {
      "text/plain": [
       "0.9569437393492686"
      ]
     },
     "execution_count": 101,
     "metadata": {},
     "output_type": "execute_result"
    }
   ],
   "source": [
    "evaluator.evaluate(predictions)"
   ]
  }
 ],
 "metadata": {
  "kernelspec": {
   "display_name": "Python 3 (ipykernel)",
   "language": "python",
   "name": "python3"
  },
  "language_info": {
   "codemirror_mode": {
    "name": "ipython",
    "version": 3
   },
   "file_extension": ".py",
   "mimetype": "text/x-python",
   "name": "python",
   "nbconvert_exporter": "python",
   "pygments_lexer": "ipython3",
   "version": "3.9.12"
  }
 },
 "nbformat": 4,
 "nbformat_minor": 5
}
